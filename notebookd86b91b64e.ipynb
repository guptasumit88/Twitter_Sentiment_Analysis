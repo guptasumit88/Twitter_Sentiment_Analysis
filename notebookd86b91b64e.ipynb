{
 "cells": [
  {
   "cell_type": "code",
   "execution_count": 1,
   "id": "162f1530",
   "metadata": {
    "_cell_guid": "b1076dfc-b9ad-4769-8c92-a6c4dae69d19",
    "_uuid": "8f2839f25d086af736a60e9eeb907d3b93b6e0e5",
    "execution": {
     "iopub.execute_input": "2021-10-27T16:58:20.769372Z",
     "iopub.status.busy": "2021-10-27T16:58:20.768282Z",
     "iopub.status.idle": "2021-10-27T16:58:20.793866Z",
     "shell.execute_reply": "2021-10-27T16:58:20.794337Z",
     "shell.execute_reply.started": "2021-10-27T16:11:43.777978Z"
    },
    "papermill": {
     "duration": 0.047328,
     "end_time": "2021-10-27T16:58:20.794645",
     "exception": false,
     "start_time": "2021-10-27T16:58:20.747317",
     "status": "completed"
    },
    "tags": []
   },
   "outputs": [
    {
     "name": "stdout",
     "output_type": "stream",
     "text": [
      "/kaggle/input/twitter-sentiment-dataset/Twitter_Data.csv\n"
     ]
    }
   ],
   "source": [
    "# This Python 3 environment comes with many helpful analytics libraries installed\n",
    "# It is defined by the kaggle/python Docker image: https://github.com/kaggle/docker-python\n",
    "# For example, here's several helpful packages to load\n",
    "\n",
    "import numpy as np # linear algebra\n",
    "import pandas as pd # data processing, CSV file I/O (e.g. pd.read_csv)\n",
    "\n",
    "# Input data files are available in the read-only \"../input/\" directory\n",
    "# For example, running this (by clicking run or pressing Shift+Enter) will list all files under the input directory\n",
    "\n",
    "import os\n",
    "for dirname, _, filenames in os.walk('/kaggle/input'):\n",
    "    for filename in filenames:\n",
    "        print(os.path.join(dirname, filename))\n",
    "\n",
    "# You can write up to 20GB to the current directory (/kaggle/working/) that gets preserved as output when you create a version using \"Save & Run All\" \n",
    "# You can also write temporary files to /kaggle/temp/, but they won't be saved outside of the current session"
   ]
  },
  {
   "cell_type": "code",
   "execution_count": 2,
   "id": "df896872",
   "metadata": {
    "execution": {
     "iopub.execute_input": "2021-10-27T16:58:20.822435Z",
     "iopub.status.busy": "2021-10-27T16:58:20.821854Z",
     "iopub.status.idle": "2021-10-27T16:58:22.416314Z",
     "shell.execute_reply": "2021-10-27T16:58:22.415313Z",
     "shell.execute_reply.started": "2021-10-27T16:11:43.796709Z"
    },
    "papermill": {
     "duration": 1.609119,
     "end_time": "2021-10-27T16:58:22.416477",
     "exception": false,
     "start_time": "2021-10-27T16:58:20.807358",
     "status": "completed"
    },
    "tags": []
   },
   "outputs": [],
   "source": [
    "import pandas as pd\n",
    "import numpy as np\n",
    "import matplotlib.pyplot as plt\n",
    "import seaborn as sns\n",
    "from wordcloud import WordCloud\n",
    "import nltk\n",
    "from sklearn.feature_extraction.text import CountVectorizer, TfidfVectorizer\n",
    "from sklearn.model_selection import train_test_split, StratifiedKFold\n",
    "from sklearn.multiclass import OneVsRestClassifier\n",
    "from sklearn.metrics import accuracy_score, f1_score, classification_report,confusion_matrix\n",
    "from sklearn.linear_model import LogisticRegression\n",
    "\n",
    "\n"
   ]
  },
  {
   "cell_type": "code",
   "execution_count": 3,
   "id": "9cc86773",
   "metadata": {
    "execution": {
     "iopub.execute_input": "2021-10-27T16:58:22.445262Z",
     "iopub.status.busy": "2021-10-27T16:58:22.444630Z",
     "iopub.status.idle": "2021-10-27T16:58:22.448049Z",
     "shell.execute_reply": "2021-10-27T16:58:22.448516Z",
     "shell.execute_reply.started": "2021-10-27T16:11:45.918832Z"
    },
    "papermill": {
     "duration": 0.01916,
     "end_time": "2021-10-27T16:58:22.448677",
     "exception": false,
     "start_time": "2021-10-27T16:58:22.429517",
     "status": "completed"
    },
    "tags": []
   },
   "outputs": [],
   "source": [
    "from sklearn.metrics import confusion_matrix \n",
    "from sklearn.metrics import accuracy_score\n",
    "from nltk.corpus import stopwords\n",
    "from nltk.stem import PorterStemmer\n",
    "import re \n"
   ]
  },
  {
   "cell_type": "code",
   "execution_count": 4,
   "id": "fbd33db6",
   "metadata": {
    "execution": {
     "iopub.execute_input": "2021-10-27T16:58:22.476657Z",
     "iopub.status.busy": "2021-10-27T16:58:22.476063Z",
     "iopub.status.idle": "2021-10-27T16:58:22.479921Z",
     "shell.execute_reply": "2021-10-27T16:58:22.480341Z",
     "shell.execute_reply.started": "2021-10-27T16:11:45.928407Z"
    },
    "papermill": {
     "duration": 0.019549,
     "end_time": "2021-10-27T16:58:22.480529",
     "exception": false,
     "start_time": "2021-10-27T16:58:22.460980",
     "status": "completed"
    },
    "tags": []
   },
   "outputs": [],
   "source": [
    "import warnings\n",
    "warnings.filterwarnings('ignore')\n"
   ]
  },
  {
   "cell_type": "code",
   "execution_count": 5,
   "id": "ada85c43",
   "metadata": {
    "execution": {
     "iopub.execute_input": "2021-10-27T16:58:22.509350Z",
     "iopub.status.busy": "2021-10-27T16:58:22.508696Z",
     "iopub.status.idle": "2021-10-27T16:58:23.338110Z",
     "shell.execute_reply": "2021-10-27T16:58:23.337387Z",
     "shell.execute_reply.started": "2021-10-27T16:11:45.940004Z"
    },
    "papermill": {
     "duration": 0.844859,
     "end_time": "2021-10-27T16:58:23.338251",
     "exception": false,
     "start_time": "2021-10-27T16:58:22.493392",
     "status": "completed"
    },
    "tags": []
   },
   "outputs": [],
   "source": [
    "df = pd.read_csv('../input/twitter-sentiment-dataset/Twitter_Data.csv')"
   ]
  },
  {
   "cell_type": "code",
   "execution_count": 6,
   "id": "f4c72850",
   "metadata": {
    "execution": {
     "iopub.execute_input": "2021-10-27T16:58:23.367535Z",
     "iopub.status.busy": "2021-10-27T16:58:23.366952Z",
     "iopub.status.idle": "2021-10-27T16:58:23.394453Z",
     "shell.execute_reply": "2021-10-27T16:58:23.393896Z",
     "shell.execute_reply.started": "2021-10-27T16:11:46.708788Z"
    },
    "papermill": {
     "duration": 0.043776,
     "end_time": "2021-10-27T16:58:23.394595",
     "exception": false,
     "start_time": "2021-10-27T16:58:23.350819",
     "status": "completed"
    },
    "tags": []
   },
   "outputs": [
    {
     "data": {
      "text/plain": [
       "clean_text    4\n",
       "category      7\n",
       "dtype: int64"
      ]
     },
     "execution_count": 6,
     "metadata": {},
     "output_type": "execute_result"
    }
   ],
   "source": [
    "df.isnull().sum()"
   ]
  },
  {
   "cell_type": "code",
   "execution_count": 7,
   "id": "fb02c22a",
   "metadata": {
    "execution": {
     "iopub.execute_input": "2021-10-27T16:58:23.426714Z",
     "iopub.status.busy": "2021-10-27T16:58:23.425918Z",
     "iopub.status.idle": "2021-10-27T16:58:23.465701Z",
     "shell.execute_reply": "2021-10-27T16:58:23.465162Z",
     "shell.execute_reply.started": "2021-10-27T16:11:46.760281Z"
    },
    "papermill": {
     "duration": 0.058331,
     "end_time": "2021-10-27T16:58:23.465846",
     "exception": false,
     "start_time": "2021-10-27T16:58:23.407515",
     "status": "completed"
    },
    "tags": []
   },
   "outputs": [],
   "source": [
    "df.dropna(inplace=True)"
   ]
  },
  {
   "cell_type": "code",
   "execution_count": 8,
   "id": "ff0896b1",
   "metadata": {
    "execution": {
     "iopub.execute_input": "2021-10-27T16:58:23.497154Z",
     "iopub.status.busy": "2021-10-27T16:58:23.496434Z",
     "iopub.status.idle": "2021-10-27T16:58:23.498932Z",
     "shell.execute_reply": "2021-10-27T16:58:23.499478Z",
     "shell.execute_reply.started": "2021-10-27T16:11:50.714332Z"
    },
    "papermill": {
     "duration": 0.020826,
     "end_time": "2021-10-27T16:58:23.499652",
     "exception": false,
     "start_time": "2021-10-27T16:58:23.478826",
     "status": "completed"
    },
    "tags": []
   },
   "outputs": [],
   "source": [
    "df.reset_index(inplace=True)"
   ]
  },
  {
   "cell_type": "code",
   "execution_count": 9,
   "id": "86709011",
   "metadata": {
    "execution": {
     "iopub.execute_input": "2021-10-27T16:58:23.549055Z",
     "iopub.status.busy": "2021-10-27T16:58:23.548430Z",
     "iopub.status.idle": "2021-10-27T16:58:27.326029Z",
     "shell.execute_reply": "2021-10-27T16:58:27.325477Z",
     "shell.execute_reply.started": "2021-10-27T16:14:12.631509Z"
    },
    "papermill": {
     "duration": 3.813994,
     "end_time": "2021-10-27T16:58:27.326188",
     "exception": false,
     "start_time": "2021-10-27T16:58:23.512194",
     "status": "completed"
    },
    "tags": []
   },
   "outputs": [],
   "source": [
    "## TFidf Vectorizer\n",
    "tfidf_v=TfidfVectorizer(max_features=10000)\n",
    "X=tfidf_v.fit_transform(df['clean_text'])\n"
   ]
  },
  {
   "cell_type": "code",
   "execution_count": 10,
   "id": "f6c672fd",
   "metadata": {
    "execution": {
     "iopub.execute_input": "2021-10-27T16:58:27.358321Z",
     "iopub.status.busy": "2021-10-27T16:58:27.357732Z",
     "iopub.status.idle": "2021-10-27T16:58:27.368826Z",
     "shell.execute_reply": "2021-10-27T16:58:27.369250Z",
     "shell.execute_reply.started": "2021-10-27T16:12:07.465964Z"
    },
    "papermill": {
     "duration": 0.029091,
     "end_time": "2021-10-27T16:58:27.369440",
     "exception": false,
     "start_time": "2021-10-27T16:58:27.340349",
     "status": "completed"
    },
    "tags": []
   },
   "outputs": [],
   "source": [
    "from sklearn.preprocessing import LabelEncoder\n",
    "labelencoder = LabelEncoder()\n",
    "df['category_1'] = labelencoder.fit_transform(df['category'])"
   ]
  },
  {
   "cell_type": "code",
   "execution_count": 11,
   "id": "290f0f18",
   "metadata": {
    "execution": {
     "iopub.execute_input": "2021-10-27T16:58:27.402300Z",
     "iopub.status.busy": "2021-10-27T16:58:27.401116Z",
     "iopub.status.idle": "2021-10-27T16:58:27.422960Z",
     "shell.execute_reply": "2021-10-27T16:58:27.423349Z",
     "shell.execute_reply.started": "2021-10-27T16:12:33.732718Z"
    },
    "papermill": {
     "duration": 0.041543,
     "end_time": "2021-10-27T16:58:27.423529",
     "exception": false,
     "start_time": "2021-10-27T16:58:27.381986",
     "status": "completed"
    },
    "tags": []
   },
   "outputs": [
    {
     "data": {
      "text/html": [
       "<div>\n",
       "<style scoped>\n",
       "    .dataframe tbody tr th:only-of-type {\n",
       "        vertical-align: middle;\n",
       "    }\n",
       "\n",
       "    .dataframe tbody tr th {\n",
       "        vertical-align: top;\n",
       "    }\n",
       "\n",
       "    .dataframe thead th {\n",
       "        text-align: right;\n",
       "    }\n",
       "</style>\n",
       "<table border=\"1\" class=\"dataframe\">\n",
       "  <thead>\n",
       "    <tr style=\"text-align: right;\">\n",
       "      <th></th>\n",
       "      <th>category</th>\n",
       "      <th>category_1</th>\n",
       "    </tr>\n",
       "  </thead>\n",
       "  <tbody>\n",
       "    <tr>\n",
       "      <th>0</th>\n",
       "      <td>-1.0</td>\n",
       "      <td>0</td>\n",
       "    </tr>\n",
       "    <tr>\n",
       "      <th>1</th>\n",
       "      <td>0.0</td>\n",
       "      <td>1</td>\n",
       "    </tr>\n",
       "    <tr>\n",
       "      <th>2</th>\n",
       "      <td>1.0</td>\n",
       "      <td>2</td>\n",
       "    </tr>\n",
       "  </tbody>\n",
       "</table>\n",
       "</div>"
      ],
      "text/plain": [
       "   category  category_1\n",
       "0      -1.0           0\n",
       "1       0.0           1\n",
       "2       1.0           2"
      ]
     },
     "execution_count": 11,
     "metadata": {},
     "output_type": "execute_result"
    }
   ],
   "source": [
    "df[['category','category_1']].drop_duplicates(keep='first')"
   ]
  },
  {
   "cell_type": "code",
   "execution_count": 12,
   "id": "62f89357",
   "metadata": {
    "execution": {
     "iopub.execute_input": "2021-10-27T16:58:27.452983Z",
     "iopub.status.busy": "2021-10-27T16:58:27.452126Z",
     "iopub.status.idle": "2021-10-27T16:58:27.455868Z",
     "shell.execute_reply": "2021-10-27T16:58:27.456395Z",
     "shell.execute_reply.started": "2021-10-27T16:13:59.925150Z"
    },
    "papermill": {
     "duration": 0.019756,
     "end_time": "2021-10-27T16:58:27.456587",
     "exception": false,
     "start_time": "2021-10-27T16:58:27.436831",
     "status": "completed"
    },
    "tags": []
   },
   "outputs": [],
   "source": [
    "y=df['category_1']"
   ]
  },
  {
   "cell_type": "code",
   "execution_count": 13,
   "id": "c21b6c09",
   "metadata": {
    "execution": {
     "iopub.execute_input": "2021-10-27T16:58:27.485772Z",
     "iopub.status.busy": "2021-10-27T16:58:27.484900Z",
     "iopub.status.idle": "2021-10-27T16:58:27.522184Z",
     "shell.execute_reply": "2021-10-27T16:58:27.522770Z",
     "shell.execute_reply.started": "2021-10-27T16:14:18.730780Z"
    },
    "papermill": {
     "duration": 0.053594,
     "end_time": "2021-10-27T16:58:27.522947",
     "exception": false,
     "start_time": "2021-10-27T16:58:27.469353",
     "status": "completed"
    },
    "tags": []
   },
   "outputs": [],
   "source": [
    "X_train, X_test, y_train, y_test = train_test_split(X, y, test_size=0.33, random_state=42)"
   ]
  },
  {
   "cell_type": "code",
   "execution_count": 14,
   "id": "b279cb3c",
   "metadata": {
    "execution": {
     "iopub.execute_input": "2021-10-27T16:58:27.553294Z",
     "iopub.status.busy": "2021-10-27T16:58:27.552728Z",
     "iopub.status.idle": "2021-10-27T16:58:27.557118Z",
     "shell.execute_reply": "2021-10-27T16:58:27.557687Z",
     "shell.execute_reply.started": "2021-10-27T16:14:25.873325Z"
    },
    "papermill": {
     "duration": 0.021914,
     "end_time": "2021-10-27T16:58:27.557848",
     "exception": false,
     "start_time": "2021-10-27T16:58:27.535934",
     "status": "completed"
    },
    "tags": []
   },
   "outputs": [],
   "source": [
    "from sklearn.naive_bayes import MultinomialNB\n",
    "classifier=MultinomialNB()"
   ]
  },
  {
   "cell_type": "code",
   "execution_count": 15,
   "id": "a7d0663c",
   "metadata": {
    "execution": {
     "iopub.execute_input": "2021-10-27T16:58:27.586721Z",
     "iopub.status.busy": "2021-10-27T16:58:27.585845Z",
     "iopub.status.idle": "2021-10-27T16:58:27.709960Z",
     "shell.execute_reply": "2021-10-27T16:58:27.710433Z",
     "shell.execute_reply.started": "2021-10-27T16:14:32.113681Z"
    },
    "papermill": {
     "duration": 0.139999,
     "end_time": "2021-10-27T16:58:27.710627",
     "exception": false,
     "start_time": "2021-10-27T16:58:27.570628",
     "status": "completed"
    },
    "tags": []
   },
   "outputs": [
    {
     "name": "stdout",
     "output_type": "stream",
     "text": [
      "              precision    recall  f1-score   support\n",
      "\n",
      "           0       0.90      0.40      0.55     11761\n",
      "           1       0.88      0.63      0.73     18297\n",
      "           2       0.64      0.95      0.76     23722\n",
      "\n",
      "    accuracy                           0.72     53780\n",
      "   macro avg       0.80      0.66      0.68     53780\n",
      "weighted avg       0.78      0.72      0.71     53780\n",
      "\n"
     ]
    }
   ],
   "source": [
    "classifier.fit(X_train, y_train)\n",
    "pred = classifier.predict(X_test)\n",
    "print(classification_report(y_test, pred))"
   ]
  },
  {
   "cell_type": "code",
   "execution_count": 16,
   "id": "8e71c697",
   "metadata": {
    "execution": {
     "iopub.execute_input": "2021-10-27T16:58:27.741169Z",
     "iopub.status.busy": "2021-10-27T16:58:27.740578Z",
     "iopub.status.idle": "2021-10-27T16:58:27.790972Z",
     "shell.execute_reply": "2021-10-27T16:58:27.790478Z",
     "shell.execute_reply.started": "2021-10-27T16:14:38.029440Z"
    },
    "papermill": {
     "duration": 0.06707,
     "end_time": "2021-10-27T16:58:27.791113",
     "exception": false,
     "start_time": "2021-10-27T16:58:27.724043",
     "status": "completed"
    },
    "tags": []
   },
   "outputs": [
    {
     "data": {
      "text/plain": [
       "array([[ 4654,   822,  6285],\n",
       "       [  169, 11494,  6634],\n",
       "       [  371,   772, 22579]])"
      ]
     },
     "execution_count": 16,
     "metadata": {},
     "output_type": "execute_result"
    }
   ],
   "source": [
    "confusion_matrix(y_test, pred)"
   ]
  },
  {
   "cell_type": "code",
   "execution_count": 17,
   "id": "d44cef3c",
   "metadata": {
    "execution": {
     "iopub.execute_input": "2021-10-27T16:58:27.852667Z",
     "iopub.status.busy": "2021-10-27T16:58:27.842259Z",
     "iopub.status.idle": "2021-10-27T16:58:31.562020Z",
     "shell.execute_reply": "2021-10-27T16:58:31.561489Z",
     "shell.execute_reply.started": "2021-10-27T16:14:42.693480Z"
    },
    "papermill": {
     "duration": 3.757273,
     "end_time": "2021-10-27T16:58:31.562160",
     "exception": false,
     "start_time": "2021-10-27T16:58:27.804887",
     "status": "completed"
    },
    "tags": []
   },
   "outputs": [],
   "source": [
    "vec = CountVectorizer(max_features=10000)\n",
    "X  = vec.fit_transform(df['clean_text'])\n",
    "\n",
    "X_train, X_test, y_train, y_test = train_test_split(X, y, test_size=0.33, random_state=42)\n",
    "classifier=MultinomialNB()\n",
    "classifier.fit(X_train, y_train)\n",
    "pred = classifier.predict(X_test)\n",
    "\n"
   ]
  },
  {
   "cell_type": "code",
   "execution_count": 18,
   "id": "c0f56e96",
   "metadata": {
    "execution": {
     "iopub.execute_input": "2021-10-27T16:58:31.594752Z",
     "iopub.status.busy": "2021-10-27T16:58:31.593759Z",
     "iopub.status.idle": "2021-10-27T16:58:31.680558Z",
     "shell.execute_reply": "2021-10-27T16:58:31.680021Z",
     "shell.execute_reply.started": "2021-10-27T16:14:50.731698Z"
    },
    "papermill": {
     "duration": 0.104878,
     "end_time": "2021-10-27T16:58:31.680704",
     "exception": false,
     "start_time": "2021-10-27T16:58:31.575826",
     "status": "completed"
    },
    "tags": []
   },
   "outputs": [
    {
     "name": "stdout",
     "output_type": "stream",
     "text": [
      "              precision    recall  f1-score   support\n",
      "\n",
      "           0       0.70      0.75      0.72     11761\n",
      "           1       0.90      0.76      0.82     18297\n",
      "           2       0.79      0.86      0.82     23722\n",
      "\n",
      "    accuracy                           0.80     53780\n",
      "   macro avg       0.80      0.79      0.79     53780\n",
      "weighted avg       0.81      0.80      0.80     53780\n",
      "\n"
     ]
    }
   ],
   "source": [
    "print(classification_report(y_test, pred))"
   ]
  },
  {
   "cell_type": "code",
   "execution_count": 19,
   "id": "167ea536",
   "metadata": {
    "execution": {
     "iopub.execute_input": "2021-10-27T16:58:31.713207Z",
     "iopub.status.busy": "2021-10-27T16:58:31.712632Z",
     "iopub.status.idle": "2021-10-27T16:58:31.762522Z",
     "shell.execute_reply": "2021-10-27T16:58:31.762936Z",
     "shell.execute_reply.started": "2021-10-27T16:14:58.966502Z"
    },
    "papermill": {
     "duration": 0.068383,
     "end_time": "2021-10-27T16:58:31.763108",
     "exception": false,
     "start_time": "2021-10-27T16:58:31.694725",
     "status": "completed"
    },
    "tags": []
   },
   "outputs": [
    {
     "data": {
      "text/plain": [
       "array([[ 8820,   698,  2243],\n",
       "       [ 1400, 13845,  3052],\n",
       "       [ 2459,   907, 20356]])"
      ]
     },
     "execution_count": 19,
     "metadata": {},
     "output_type": "execute_result"
    }
   ],
   "source": [
    "confusion_matrix(y_test, pred)"
   ]
  }
 ],
 "metadata": {
  "kernelspec": {
   "display_name": "Python 3",
   "language": "python",
   "name": "python3"
  },
  "language_info": {
   "codemirror_mode": {
    "name": "ipython",
    "version": 3
   },
   "file_extension": ".py",
   "mimetype": "text/x-python",
   "name": "python",
   "nbconvert_exporter": "python",
   "pygments_lexer": "ipython3",
   "version": "3.7.10"
  },
  "papermill": {
   "default_parameters": {},
   "duration": 19.459819,
   "end_time": "2021-10-27T16:58:32.489248",
   "environment_variables": {},
   "exception": null,
   "input_path": "__notebook__.ipynb",
   "output_path": "__notebook__.ipynb",
   "parameters": {},
   "start_time": "2021-10-27T16:58:13.029429",
   "version": "2.3.3"
  }
 },
 "nbformat": 4,
 "nbformat_minor": 5
}
